{
  "nbformat": 4,
  "nbformat_minor": 0,
  "metadata": {
    "colab": {
      "name": "CDPRactical1.ipynb",
      "provenance": [],
      "collapsed_sections": [],
      "authorship_tag": "ABX9TyPsliDs/1o6gWTineZmnuMl",
      "include_colab_link": true
    },
    "kernelspec": {
      "name": "python3",
      "display_name": "Python 3"
    },
    "language_info": {
      "name": "python"
    }
  },
  "cells": [
    {
      "cell_type": "markdown",
      "metadata": {
        "id": "view-in-github",
        "colab_type": "text"
      },
      "source": [
        "<a href=\"https://colab.research.google.com/github/CharitarthAntala/Compiler-Design-Practical/blob/main/CDPRactical1.ipynb\" target=\"_parent\"><img src=\"https://colab.research.google.com/assets/colab-badge.svg\" alt=\"Open In Colab\"/></a>"
      ]
    },
    {
      "cell_type": "code",
      "metadata": {
        "colab": {
          "base_uri": "https://localhost:8080/"
        },
        "id": "N7mtQnW9ZDtr",
        "outputId": "54484c4b-c934-4f85-af11-2b97e5cad396"
      },
      "source": [
        "import re\n",
        "#(ab)*+ (a+b) + (ba)*\n",
        "#(0|1)*11(10|01)*\n",
        "#a(b+ba)*+a(ac+abb)*\n",
        "\n",
        "#pattern = '((ab)*$)|((a|b)$)|((ba)*$)'\n",
        "pattern = '((0)*|(1)*)11((10)*$|(01)*$)'\n",
        "#pattern = '((a((b)*$|(ba)*$))|(a((ac)*$|(abb)*$)))'\n",
        "test_string = input(\"Enter the string:\")\n",
        "result = re.match(pattern, test_string)\n",
        "\n",
        "if result:\n",
        "  print(\"Search successful.\")\n",
        "else:\n",
        "  print(\"Search unsuccessful.\")\t\n"
      ],
      "execution_count": 65,
      "outputs": [
        {
          "output_type": "stream",
          "text": [
            "Enter the string:0011\n",
            "Search successful.\n"
          ],
          "name": "stdout"
        }
      ]
    }
  ]
}