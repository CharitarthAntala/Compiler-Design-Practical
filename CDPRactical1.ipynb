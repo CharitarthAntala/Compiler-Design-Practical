{
  "nbformat": 4,
  "nbformat_minor": 0,
  "metadata": {
    "colab": {
      "name": "CDPRactical1.ipynb",
      "provenance": [],
      "collapsed_sections": [],
      "authorship_tag": "ABX9TyOYVnC2wuYxLR2bWa4A6FHT",
      "include_colab_link": true
    },
    "kernelspec": {
      "name": "python3",
      "display_name": "Python 3"
    },
    "language_info": {
      "name": "python"
    }
  },
  "cells": [
    {
      "cell_type": "markdown",
      "metadata": {
        "id": "view-in-github",
        "colab_type": "text"
      },
      "source": [
        "<a href=\"https://colab.research.google.com/github/CharitarthAntala/Compiler-Design-Practical/blob/main/CDPRactical1.ipynb\" target=\"_parent\"><img src=\"https://colab.research.google.com/assets/colab-badge.svg\" alt=\"Open In Colab\"/></a>"
      ]
    },
    {
      "cell_type": "code",
      "metadata": {
        "colab": {
          "base_uri": "https://localhost:8080/"
        },
        "id": "N7mtQnW9ZDtr",
        "outputId": "9eb8a2aa-3812-4f2d-f49a-d067f9334641"
      },
      "source": [
        "import re\n",
        "#(ab)*+ (a+b) + (ba)*\n",
        "#pattern = '^[ab]*|[a|b]|[ba]*$'\n",
        "#pattern = '(a*b*$)|(a|b$)|(b*a*$)'\n",
        "\n",
        "pattern = '((ab)*$)|((a|b)$)|((ba)*$)'\n",
        "test_string = input(\"Enter the string:\")\n",
        "result = re.match(pattern, test_string)\n",
        "\n",
        "if result:\n",
        "  print(\"Search successful.\")\n",
        "else:\n",
        "  print(\"Search unsuccessful.\")\t\n"
      ],
      "execution_count": 12,
      "outputs": [
        {
          "output_type": "stream",
          "text": [
            "Enter the string:bababbba\n",
            "Search unsuccessful.\n"
          ],
          "name": "stdout"
        }
      ]
    }
  ]
}