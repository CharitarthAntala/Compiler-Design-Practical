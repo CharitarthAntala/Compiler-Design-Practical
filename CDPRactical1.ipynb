{
  "nbformat": 4,
  "nbformat_minor": 0,
  "metadata": {
    "colab": {
      "name": "CDPRactical1.ipynb",
      "provenance": [],
      "authorship_tag": "ABX9TyO/sOYwmcriRNLwl/Kpw63l",
      "include_colab_link": true
    },
    "kernelspec": {
      "name": "python3",
      "display_name": "Python 3"
    },
    "language_info": {
      "name": "python"
    }
  },
  "cells": [
    {
      "cell_type": "markdown",
      "metadata": {
        "id": "view-in-github",
        "colab_type": "text"
      },
      "source": [
        "<a href=\"https://colab.research.google.com/github/CharitarthAntala/Compiler-Design-Practical/blob/main/CDPRactical1.ipynb\" target=\"_parent\"><img src=\"https://colab.research.google.com/assets/colab-badge.svg\" alt=\"Open In Colab\"/></a>"
      ]
    },
    {
      "cell_type": "code",
      "metadata": {
        "colab": {
          "base_uri": "https://localhost:8080/"
        },
        "id": "N7mtQnW9ZDtr",
        "outputId": "c15578f6-4b40-4f47-9e7c-9b044c7fb0ad"
      },
      "source": [
        "import re\n",
        "#(ab)*+ (a+b) + (ba)*\n",
        "#pattern = '^[ab]*|[a|b]|[ba]*$'\n",
        "pattern = re.compile('a*')\n",
        "test_string = 'bbb'\n",
        "result = re.match(pattern, test_string)\n",
        "\n",
        "if result:\n",
        "  print(\"Search successful.\")\n",
        "else:\n",
        "  print(\"Search unsuccessful.\")\t\n"
      ],
      "execution_count": 1,
      "outputs": [
        {
          "output_type": "stream",
          "text": [
            "Search successful.\n"
          ],
          "name": "stdout"
        }
      ]
    }
  ]
}